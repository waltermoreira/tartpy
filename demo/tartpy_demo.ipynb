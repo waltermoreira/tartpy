{
 "metadata": {
  "name": ""
 },
 "nbformat": 3,
 "nbformat_minor": 0,
 "worksheets": [
  {
   "cells": [
    {
     "cell_type": "heading",
     "level": 1,
     "metadata": {},
     "source": [
      "Tartpy Demo"
     ]
    },
    {
     "cell_type": "markdown",
     "metadata": {},
     "source": [
      "This is the Python version of Tristan Slominski's [tartjs](https://github.com/organix/tartjs) demo. There are some [differences between the demos](https://github.com/waltermoreira/tartpy/blob/master/demo/README.rst), but the semantics are the same.\n",
      "\n",
      "Install [tartpy](https://github.com/waltermoreira/tartpy) from Github. It requires Python 3.\n",
      "\n",
      "This IPython notebook is included in the tartpy distribution."
     ]
    },
    {
     "cell_type": "markdown",
     "metadata": {},
     "source": [
      "Import the runtime and the behavior decorator:"
     ]
    },
    {
     "cell_type": "code",
     "collapsed": false,
     "input": [
      "from tartpy.runtime import Runtime, behavior"
     ],
     "language": "python",
     "metadata": {},
     "outputs": [],
     "prompt_number": 1
    },
    {
     "cell_type": "markdown",
     "metadata": {},
     "source": [
      "The runtime is responsible for initially creating the actors.  It is the equivalent to [tartjs](https://github.com/organix/tartjs) sponsor."
     ]
    },
    {
     "cell_type": "code",
     "collapsed": false,
     "input": [
      "runtime = Runtime()"
     ],
     "language": "python",
     "metadata": {},
     "outputs": [],
     "prompt_number": 2
    },
    {
     "cell_type": "markdown",
     "metadata": {},
     "source": [
      "**Note**: here's a silly trick to sync the output of the `print` statements in the actors with the output in the IPython notebook. The `flush` function will be used after every actor example. **Do not mind** this. Forget it completely."
     ]
    },
    {
     "cell_type": "code",
     "collapsed": false,
     "input": [
      "import time\n",
      "\n",
      "def flush(wait=0.1):\n",
      "    time.sleep(wait)"
     ],
     "language": "python",
     "metadata": {},
     "outputs": [],
     "prompt_number": 3
    },
    {
     "cell_type": "heading",
     "level": 2,
     "metadata": {},
     "source": [
      "Fundamentals"
     ]
    },
    {
     "cell_type": "heading",
     "level": 3,
     "metadata": {},
     "source": [
      "An actor in Python"
     ]
    },
    {
     "cell_type": "markdown",
     "metadata": {},
     "source": [
      "First, define a behavior.  A behavior gets two arguments:\n",
      "\n",
      "* `self`: a reference to the actor that is executing this behavior,\n",
      "\n",
      "* `message`: the message being passed."
     ]
    },
    {
     "cell_type": "code",
     "collapsed": false,
     "input": [
      "@behavior\n",
      "def demo_beh(self, message):\n",
      "    print(message)"
     ],
     "language": "python",
     "metadata": {},
     "outputs": [],
     "prompt_number": 4
    },
    {
     "cell_type": "markdown",
     "metadata": {},
     "source": [
      "Construct the actor with behavior `demo_beh` by asking the runtime:"
     ]
    },
    {
     "cell_type": "code",
     "collapsed": false,
     "input": [
      "demo_actor = runtime.create(demo_beh)"
     ],
     "language": "python",
     "metadata": {},
     "outputs": [],
     "prompt_number": 5
    },
    {
     "cell_type": "markdown",
     "metadata": {},
     "source": [
      "And send it some message:"
     ]
    },
    {
     "cell_type": "code",
     "collapsed": true,
     "input": [
      "demo_actor << 'foo'\n",
      "flush()"
     ],
     "language": "python",
     "metadata": {},
     "outputs": [
      {
       "output_type": "stream",
       "stream": "stdout",
       "text": [
        "foo\n"
       ]
      }
     ],
     "prompt_number": 6
    },
    {
     "cell_type": "heading",
     "level": 3,
     "metadata": {},
     "source": [
      "An actor with state"
     ]
    },
    {
     "cell_type": "markdown",
     "metadata": {},
     "source": [
      "In addition to the last two arguments of a behavior, any other argument is considered a state. In this example, the actor mutates the state for each message it receives."
     ]
    },
    {
     "cell_type": "code",
     "collapsed": false,
     "input": [
      "@behavior\n",
      "def counter_beh(state, self, message):\n",
      "    print('Start count:', state['count'])\n",
      "    print('Message:    ', message)\n",
      "\n",
      "    state['count'] += message\n",
      "\n",
      "    print('End count:  ', state['count'])"
     ],
     "language": "python",
     "metadata": {},
     "outputs": [],
     "prompt_number": 7
    },
    {
     "cell_type": "markdown",
     "metadata": {},
     "source": [
      "Create the actor with an inital state:"
     ]
    },
    {
     "cell_type": "code",
     "collapsed": false,
     "input": [
      "counter = runtime.create(counter_beh, {'count': 1337})"
     ],
     "language": "python",
     "metadata": {},
     "outputs": [],
     "prompt_number": 8
    },
    {
     "cell_type": "markdown",
     "metadata": {},
     "source": [
      "And test it with some messages:"
     ]
    },
    {
     "cell_type": "code",
     "collapsed": false,
     "input": [
      "counter << 1\n",
      "counter << 2\n",
      "counter << -10\n",
      "flush()"
     ],
     "language": "python",
     "metadata": {},
     "outputs": [
      {
       "output_type": "stream",
       "stream": "stdout",
       "text": [
        "Start count: 1337\n",
        "Message:     1\n",
        "End count:   1338\n",
        "Start count: 1338\n",
        "Message:     2\n",
        "End count:   1340\n",
        "Start count: 1340\n",
        "Message:     -10\n",
        "End count:   1330\n"
       ]
      }
     ],
     "prompt_number": 9
    },
    {
     "cell_type": "heading",
     "level": 3,
     "metadata": {},
     "source": [
      "Ping-pong"
     ]
    },
    {
     "cell_type": "markdown",
     "metadata": {},
     "source": [
      "We create two actors that send messages between themselves. Notice that the messages are asynchronous."
     ]
    },
    {
     "cell_type": "code",
     "collapsed": false,
     "input": [
      "@behavior\n",
      "def ping_beh(self, message):\n",
      "    print('[PING****] send')\n",
      "    message << self\n",
      "    print('[PING****] finish')\n",
      "\n",
      "@behavior\n",
      "def pong_beh(state, self, message):\n",
      "    if state['count'] == 0:\n",
      "        print('[****PONG] Done')\n",
      "        return\n",
      "\n",
      "    print('[****PONG] send')\n",
      "    message << self\n",
      "    print('[****PONG] finish')\n",
      "    state['count'] -= 1\n",
      "\n",
      "ping = runtime.create(ping_beh)\n",
      "pong = runtime.create(pong_beh, {'count': 2})"
     ],
     "language": "python",
     "metadata": {},
     "outputs": [],
     "prompt_number": 10
    },
    {
     "cell_type": "markdown",
     "metadata": {},
     "source": [
      "Send the message `pong` to `ping`:"
     ]
    },
    {
     "cell_type": "code",
     "collapsed": false,
     "input": [
      "ping << pong\n",
      "flush()"
     ],
     "language": "python",
     "metadata": {},
     "outputs": [
      {
       "output_type": "stream",
       "stream": "stdout",
       "text": [
        "[PING****] send\n",
        "[PING****] finish\n",
        "[****PONG] send\n",
        "[****PONG] finish\n",
        "[PING****] send\n",
        "[PING****] finish\n",
        "[****PONG] send\n",
        "[****PONG] finish\n",
        "[PING****] send\n",
        "[PING****] finish\n",
        "[****PONG] Done\n"
       ]
      }
     ],
     "prompt_number": 11
    },
    {
     "cell_type": "heading",
     "level": 3,
     "metadata": {},
     "source": [
      "Methods of `self`"
     ]
    },
    {
     "cell_type": "markdown",
     "metadata": {},
     "source": [
      "The following actor shows the methods available to `self`. In addition to the three methods of the actor model: `send`, `create`, and `become`, it also includes the method `throw` that raises an error to the runtime."
     ]
    },
    {
     "cell_type": "code",
     "collapsed": false,
     "input": [
      "@behavior\n",
      "def show_self_beh(self, message):\n",
      "    print('self:', self)\n",
      "    print('methods:', [meth for meth in dir(self) if not meth.startswith('_')])\n",
      "\n",
      "show_self = runtime.create(show_self_beh)\n",
      "\n",
      "show_self << None\n",
      "flush()"
     ],
     "language": "python",
     "metadata": {},
     "outputs": [
      {
       "output_type": "stream",
       "stream": "stdout",
       "text": [
        "self: <tartpy.runtime.Actor object at 0x105efa0d0>\n",
        "methods: ['become', 'create', 'send', 'throw']\n"
       ]
      }
     ],
     "prompt_number": 12
    },
    {
     "cell_type": "heading",
     "level": 3,
     "metadata": {},
     "source": [
      "Changing behavior"
     ]
    },
    {
     "cell_type": "markdown",
     "metadata": {},
     "source": [
      "This is an example of an actor that changes its behavior."
     ]
    },
    {
     "cell_type": "code",
     "collapsed": false,
     "input": [
      "@behavior\n",
      "def say_red_beh(self, message):\n",
      "    print('[SAYING]: red')\n",
      "    self.become(say_black_beh)\n",
      "\n",
      "@behavior\n",
      "def say_black_beh(self, message):\n",
      "    print('[SAYING]: black')\n",
      "    self.become(say_red_beh)"
     ],
     "language": "python",
     "metadata": {},
     "outputs": [],
     "prompt_number": 13
    },
    {
     "cell_type": "markdown",
     "metadata": {},
     "source": [
      "The initial behavior for the actor is `say_red_beh`."
     ]
    },
    {
     "cell_type": "code",
     "collapsed": false,
     "input": [
      "say = runtime.create(say_red_beh)"
     ],
     "language": "python",
     "metadata": {},
     "outputs": [],
     "prompt_number": 14
    },
    {
     "cell_type": "markdown",
     "metadata": {},
     "source": [
      "And we send `None` as message, since it doesn't really matter:"
     ]
    },
    {
     "cell_type": "code",
     "collapsed": false,
     "input": [
      "say << None\n",
      "flush()"
     ],
     "language": "python",
     "metadata": {},
     "outputs": [
      {
       "output_type": "stream",
       "stream": "stdout",
       "text": [
        "[SAYING]: red\n"
       ]
      }
     ],
     "prompt_number": 15
    },
    {
     "cell_type": "markdown",
     "metadata": {},
     "source": [
      "But for the next message, the actor has changed its behavior:"
     ]
    },
    {
     "cell_type": "code",
     "collapsed": false,
     "input": [
      "say << None\n",
      "flush()"
     ],
     "language": "python",
     "metadata": {},
     "outputs": [
      {
       "output_type": "stream",
       "stream": "stdout",
       "text": [
        "[SAYING]: black\n"
       ]
      }
     ],
     "prompt_number": 16
    },
    {
     "cell_type": "heading",
     "level": 3,
     "metadata": {},
     "source": [
      "Changing behavior with state"
     ]
    },
    {
     "cell_type": "markdown",
     "metadata": {},
     "source": [
      "In this example we carry state from one behavior to the other. Note that this is **not** shared state among actors, since the state is only accessible to the behaviors the actor can become."
     ]
    },
    {
     "cell_type": "code",
     "collapsed": false,
     "input": [
      "@behavior\n",
      "def flip_up_beh(state, self, message):\n",
      "    print(state, 'flipping up...')\n",
      "    self.become(flip_down_beh, 'up')\n",
      "\n",
      "@behavior\n",
      "def flip_down_beh(state, self, message):\n",
      "    print(state, 'flipping down...')\n",
      "    self.become(flip_up_beh, 'down')"
     ],
     "language": "python",
     "metadata": {},
     "outputs": [],
     "prompt_number": 17
    },
    {
     "cell_type": "markdown",
     "metadata": {},
     "source": [
      "Create the actor with an initial state, and send some messages:"
     ]
    },
    {
     "cell_type": "code",
     "collapsed": false,
     "input": [
      "flipper = runtime.create(flip_down_beh, 'neither')\n",
      "\n",
      "flipper << None\n",
      "flipper << None\n",
      "flipper << None\n",
      "flipper << None\n",
      "\n",
      "flush()"
     ],
     "language": "python",
     "metadata": {},
     "outputs": [
      {
       "output_type": "stream",
       "stream": "stdout",
       "text": [
        "neither flipping down...\n",
        "down flipping up...\n",
        "up flipping down...\n",
        "down flipping up...\n"
       ]
      }
     ],
     "prompt_number": 18
    },
    {
     "cell_type": "heading",
     "level": 2,
     "metadata": {},
     "source": [
      "Actor Idioms"
     ]
    },
    {
     "cell_type": "markdown",
     "metadata": {},
     "source": [
      "The main reference is [Dale Schumacher's paper](https://apice.unibo.it/xwiki/bin/download/AGERE2012/AcceptedPapers/ageresplash2012submission3.pdf)."
     ]
    },
    {
     "cell_type": "markdown",
     "metadata": {},
     "source": [
      "Throughout the examples we are going to use an actor that just displays any message it receives:"
     ]
    },
    {
     "cell_type": "code",
     "collapsed": false,
     "input": [
      "@behavior\n",
      "def log_beh(self, message):\n",
      "    print('CUSTOMER:')\n",
      "    print(message)\n",
      "\n",
      "log = runtime.create(log_beh)"
     ],
     "language": "python",
     "metadata": {},
     "outputs": [],
     "prompt_number": 19
    },
    {
     "cell_type": "markdown",
     "metadata": {},
     "source": [
      "Test it:"
     ]
    },
    {
     "cell_type": "code",
     "collapsed": false,
     "input": [
      "log << 'hi there'\n",
      "flush()"
     ],
     "language": "python",
     "metadata": {},
     "outputs": [
      {
       "output_type": "stream",
       "stream": "stdout",
       "text": [
        "CUSTOMER:\n",
        "hi there\n"
       ]
      }
     ],
     "prompt_number": 20
    },
    {
     "cell_type": "heading",
     "level": 3,
     "metadata": {},
     "source": [
      "Request/reply idiom"
     ]
    },
    {
     "cell_type": "markdown",
     "metadata": {},
     "source": [
      "We send a message to a service, including the address to where it should respond (the *customer*). Notice that the customer doesn't need to be the actor that is sending the message."
     ]
    },
    {
     "cell_type": "code",
     "collapsed": false,
     "input": [
      "@behavior\n",
      "def service_beh(self, message):\n",
      "    customer = message['customer']\n",
      "    customer << 'some data from the server'\n",
      "    \n",
      "service = runtime.create(service_beh)"
     ],
     "language": "python",
     "metadata": {},
     "outputs": [],
     "prompt_number": 21
    },
    {
     "cell_type": "markdown",
     "metadata": {},
     "source": [
      "Send a message to the service and ask it to reply to `log` as customer:"
     ]
    },
    {
     "cell_type": "code",
     "collapsed": false,
     "input": [
      "service << {'customer': log}\n",
      "flush()"
     ],
     "language": "python",
     "metadata": {},
     "outputs": [
      {
       "output_type": "stream",
       "stream": "stdout",
       "text": [
        "CUSTOMER:\n",
        "some data from the server\n"
       ]
      }
     ],
     "prompt_number": 22
    },
    {
     "cell_type": "heading",
     "level": 3,
     "metadata": {},
     "source": [
      "Forward actor"
     ]
    },
    {
     "cell_type": "markdown",
     "metadata": {},
     "source": [
      "This is an actor that forwards any message it receives to another actor."
     ]
    },
    {
     "cell_type": "code",
     "collapsed": false,
     "input": [
      "@behavior\n",
      "def forward_beh(subject, self, message):\n",
      "    subject << message\n",
      "\n",
      "forward = runtime.create(forward_beh, log)\n",
      "\n",
      "forward << 'hi'\n",
      "forward << 'there'\n",
      "flush()"
     ],
     "language": "python",
     "metadata": {},
     "outputs": [
      {
       "output_type": "stream",
       "stream": "stdout",
       "text": [
        "CUSTOMER:\n",
        "hi\n",
        "CUSTOMER:\n",
        "there\n"
       ]
      }
     ],
     "prompt_number": 23
    },
    {
     "cell_type": "heading",
     "level": 3,
     "metadata": {},
     "source": [
      "One-shot actor"
     ]
    },
    {
     "cell_type": "markdown",
     "metadata": {},
     "source": [
      "This actor forwards only one message, and then it ignores any subsequent message:"
     ]
    },
    {
     "cell_type": "code",
     "collapsed": false,
     "input": [
      "@behavior\n",
      "def one_shot_beh(subject, self, message):\n",
      "    subject << message\n",
      "    self.become(ignore_beh)\n",
      "\n",
      "@behavior\n",
      "def ignore_beh(self, message):\n",
      "    pass\n",
      "\n",
      "one_shot = runtime.create(one_shot_beh, log)\n",
      "\n",
      "one_shot << 'are we there yet?'\n",
      "one_shot << 'are we there yet?'\n",
      "one_shot << 'are we there yet?'\n",
      "flush()"
     ],
     "language": "python",
     "metadata": {},
     "outputs": [
      {
       "output_type": "stream",
       "stream": "stdout",
       "text": [
        "CUSTOMER:\n",
        "are we there yet?\n"
       ]
      }
     ],
     "prompt_number": 24
    },
    {
     "cell_type": "heading",
     "level": 3,
     "metadata": {},
     "source": [
      "Label and Tag actors"
     ]
    },
    {
     "cell_type": "markdown",
     "metadata": {},
     "source": [
      "The label actor adds some fixed information to the message:"
     ]
    },
    {
     "cell_type": "code",
     "collapsed": false,
     "input": [
      "@behavior\n",
      "def label_beh(subject, label, self, message):\n",
      "    subject << {'label': label,\n",
      "                'message': message}\n",
      "\n",
      "label = runtime.create(label_beh, log, 'ALL THE THINGS!')\n",
      "\n",
      "label << 'label me'\n",
      "label << 17\n",
      "label << {'some', 'object'}\n",
      "flush()"
     ],
     "language": "python",
     "metadata": {},
     "outputs": [
      {
       "output_type": "stream",
       "stream": "stdout",
       "text": [
        "CUSTOMER:\n",
        "{'message': 'label me', 'label': 'ALL THE THINGS!'}\n",
        "CUSTOMER:\n",
        "{'message': 17, 'label': 'ALL THE THINGS!'}\n",
        "CUSTOMER:\n",
        "{'message': {'some', 'object'}, 'label': 'ALL THE THINGS!'}\n"
       ]
      }
     ],
     "prompt_number": 25
    },
    {
     "cell_type": "markdown",
     "metadata": {},
     "source": [
      "And the tag actor does the same but it adds itself. Since the reference to an actor cannot be forged (unless going to the internals of the language), it is a way to add a secure token:"
     ]
    },
    {
     "cell_type": "code",
     "collapsed": false,
     "input": [
      "@behavior\n",
      "def tag_beh(subject, self, message):\n",
      "    subject << {'tag': self,\n",
      "                'message': message}\n",
      "    \n",
      "tag = runtime.create(tag_beh, log)\n",
      "\n",
      "tag << 'data'\n",
      "flush()"
     ],
     "language": "python",
     "metadata": {},
     "outputs": [
      {
       "output_type": "stream",
       "stream": "stdout",
       "text": [
        "CUSTOMER:\n",
        "{'message': 'data', 'tag': <tartpy.runtime.Actor object at 0x105ef6ad0>}\n"
       ]
      }
     ],
     "prompt_number": 26
    },
    {
     "cell_type": "heading",
     "level": 3,
     "metadata": {},
     "source": [
      "Race example"
     ]
    },
    {
     "cell_type": "markdown",
     "metadata": {},
     "source": [
      "An example of trying things in parallel. The `race` actor will send messages to a list of services:"
     ]
    },
    {
     "cell_type": "code",
     "collapsed": false,
     "input": [
      "@behavior\n",
      "def race_beh(services, self, message):\n",
      "    customer = message['customer']\n",
      "    one_shot = self.create(one_shot_beh, customer)\n",
      "    message['customer'] = one_shot\n",
      "\n",
      "    for service in services:\n",
      "        service << message"
     ],
     "language": "python",
     "metadata": {},
     "outputs": [],
     "prompt_number": 27
    },
    {
     "cell_type": "markdown",
     "metadata": {},
     "source": [
      "The `random_service` actor waits a random time between 0 and 10 seconds, before sending a reply to the customer:"
     ]
    },
    {
     "cell_type": "code",
     "collapsed": false,
     "input": [
      "from random import random\n",
      "from tartpy.eventloop import EventLoop\n",
      "\n",
      "@behavior\n",
      "def random_service_beh(uid, self, message):\n",
      "    customer = message['customer']\n",
      "    EventLoop().later(random()*10,\n",
      "                      lambda: customer << {'id': uid})"
     ],
     "language": "python",
     "metadata": {},
     "outputs": [],
     "prompt_number": 28
    },
    {
     "cell_type": "markdown",
     "metadata": {},
     "source": [
      "We create 10 random services and we let `race` send its messages:"
     ]
    },
    {
     "cell_type": "code",
     "collapsed": false,
     "input": [
      "services = [runtime.create(random_service_beh, 1),\n",
      "            runtime.create(random_service_beh, 2),\n",
      "            runtime.create(random_service_beh, 3),\n",
      "            runtime.create(random_service_beh, 4),\n",
      "            runtime.create(random_service_beh, 5),\n",
      "            runtime.create(random_service_beh, 6),\n",
      "            runtime.create(random_service_beh, 7),\n",
      "            runtime.create(random_service_beh, 8),\n",
      "            runtime.create(random_service_beh, 9),\n",
      "            runtime.create(random_service_beh, 10)]\n",
      "\n",
      "race = runtime.create(race_beh, services)\n",
      "\n",
      "race << {'customer': log}\n",
      "flush(1)  # wait 1 full second to give time to deliver all messages"
     ],
     "language": "python",
     "metadata": {},
     "outputs": [
      {
       "output_type": "stream",
       "stream": "stdout",
       "text": [
        "CUSTOMER:\n",
        "{'id': 4}\n"
       ]
      }
     ],
     "prompt_number": 31
    },
    {
     "cell_type": "markdown",
     "metadata": {},
     "source": [
      "Try it again to see if a different service wins the race:"
     ]
    },
    {
     "cell_type": "code",
     "collapsed": false,
     "input": [
      "race << {'customer': log}\n",
      "flush(1)"
     ],
     "language": "python",
     "metadata": {},
     "outputs": [
      {
       "output_type": "stream",
       "stream": "stdout",
       "text": [
        "CUSTOMER:\n",
        "{'id': 6}\n"
       ]
      }
     ],
     "prompt_number": 32
    },
    {
     "cell_type": "heading",
     "level": 3,
     "metadata": {},
     "source": [
      "Revocable actor"
     ]
    },
    {
     "cell_type": "markdown",
     "metadata": {},
     "source": [
      "As an example of a capability, we can use the unforgeability of the actor's addresses as a security token to revoke an actor."
     ]
    },
    {
     "cell_type": "code",
     "collapsed": false,
     "input": [
      "@behavior\n",
      "def revocable_beh(actor, self, message):\n",
      "    if message is actor:\n",
      "        self.become(ignore_beh)\n",
      "    else:\n",
      "        actor << message\n",
      "        \n",
      "log_proxy = runtime.create(revocable_beh, log)"
     ],
     "language": "python",
     "metadata": {},
     "outputs": [],
     "prompt_number": 33
    },
    {
     "cell_type": "markdown",
     "metadata": {},
     "source": [
      "`log_proxy` will forward all the messages..."
     ]
    },
    {
     "cell_type": "code",
     "collapsed": false,
     "input": [
      "log_proxy << 'hi'\n",
      "log_proxy << 'there'\n",
      "flush()"
     ],
     "language": "python",
     "metadata": {},
     "outputs": [
      {
       "output_type": "stream",
       "stream": "stdout",
       "text": [
        "CUSTOMER:\n",
        "hi\n",
        "CUSTOMER:\n",
        "there\n"
       ]
      }
     ],
     "prompt_number": 34
    },
    {
     "cell_type": "markdown",
     "metadata": {},
     "source": [
      "...unless the message itself is the actor `log`, since the only one who has the reference to `log` is the one who created the proxy (or anyone else to whom the address of `log` was shared):"
     ]
    },
    {
     "cell_type": "code",
     "collapsed": false,
     "input": [
      "log_proxy << log"
     ],
     "language": "python",
     "metadata": {},
     "outputs": [],
     "prompt_number": 36
    },
    {
     "cell_type": "markdown",
     "metadata": {},
     "source": [
      "Now, the actor `log_proxy` is revoked and will not forward any other message:"
     ]
    },
    {
     "cell_type": "code",
     "collapsed": false,
     "input": [
      "log_proxy << 'hi again'\n",
      "flush()"
     ],
     "language": "python",
     "metadata": {},
     "outputs": [],
     "prompt_number": 37
    },
    {
     "cell_type": "markdown",
     "metadata": {},
     "source": [
      "Note that the `log` actor is still alive and well:"
     ]
    },
    {
     "cell_type": "code",
     "collapsed": false,
     "input": [
      "log << 'hi'\n",
      "flush()"
     ],
     "language": "python",
     "metadata": {},
     "outputs": [
      {
       "output_type": "stream",
       "stream": "stdout",
       "text": [
        "CUSTOMER:\n",
        "hi\n"
       ]
      }
     ],
     "prompt_number": 38
    },
    {
     "cell_type": "heading",
     "level": 3,
     "metadata": {},
     "source": [
      "Membranes"
     ]
    },
    {
     "cell_type": "markdown",
     "metadata": {},
     "source": [
      "Membranes in `tartpy` forward messages across memory domains and anonymize the actor's addresses in messages by creating proxies automatically."
     ]
    },
    {
     "cell_type": "code",
     "collapsed": false,
     "input": [
      "from tartpy.membrane import Membrane"
     ],
     "language": "python",
     "metadata": {},
     "outputs": [],
     "prompt_number": 39
    },
    {
     "cell_type": "markdown",
     "metadata": {},
     "source": [
      "An actor that displays the messages it receives, and reply to a customer:"
     ]
    },
    {
     "cell_type": "code",
     "collapsed": false,
     "input": [
      "@behavior\n",
      "def echo_beh(self, message):\n",
      "    print('Echo:', message)\n",
      "    message['customer'] << {'reply': message}\n",
      "\n",
      "echo = runtime.create(echo_beh)"
     ],
     "language": "python",
     "metadata": {},
     "outputs": [],
     "prompt_number": 40
    },
    {
     "cell_type": "markdown",
     "metadata": {},
     "source": [
      "Create a membrane listening on `tcp://localhost:5001`"
     ]
    },
    {
     "cell_type": "code",
     "collapsed": false,
     "input": [
      "mb1 = Membrane({'protocol': 'tcp', 'ip': 'localhost', 'port': 5001}, runtime)"
     ],
     "language": "python",
     "metadata": {},
     "outputs": [],
     "prompt_number": 41
    },
    {
     "cell_type": "markdown",
     "metadata": {},
     "source": [
      "Ask the membrane for a secure identifier, so the actor `echo` can be introduced to other membranes:"
     ]
    },
    {
     "cell_type": "code",
     "collapsed": false,
     "input": [
      "uid_at_mb1 = mb1.get_uid(echo)\n",
      "uid_at_mb1"
     ],
     "language": "python",
     "metadata": {},
     "outputs": [
      {
       "metadata": {},
       "output_type": "pyout",
       "prompt_number": 42,
       "text": [
        "'ed73512fc31d4d848e8877dcb481bc61'"
       ]
      }
     ],
     "prompt_number": 42
    },
    {
     "cell_type": "markdown",
     "metadata": {},
     "source": [
      "Now create another membrane (it could be in another process or machine) listening on `tcp://localhost:5002`. Note that here they share the same runtime, but it could be two different runtimes (as it is obviously necessary if the domains are in different processes or machines)."
     ]
    },
    {
     "cell_type": "code",
     "collapsed": false,
     "input": [
      "mb2 = Membrane({'protocol': 'tcp', 'ip': 'localhost', 'port': 5002}, runtime)"
     ],
     "language": "python",
     "metadata": {},
     "outputs": [],
     "prompt_number": 43
    },
    {
     "cell_type": "markdown",
     "metadata": {},
     "source": [
      "We can use the secure identifier to do the initial introduction of `echo` to `mb2`. This has to be done only once. Messages containing addresses of actors will go automatically over this process."
     ]
    },
    {
     "cell_type": "code",
     "collapsed": false,
     "input": [
      "proxy_for_echo = mb2.create_proxy(uid_at_mb1, mb1.config)"
     ],
     "language": "python",
     "metadata": {},
     "outputs": [],
     "prompt_number": 44
    },
    {
     "cell_type": "markdown",
     "metadata": {},
     "source": [
      "`proxy_for_echo` is leaving in `mb2` membrane. Test it by sending a message:"
     ]
    },
    {
     "cell_type": "code",
     "collapsed": false,
     "input": [
      "proxy_for_echo << {'foo': 5, 'customer': log}\n",
      "flush(1)"
     ],
     "language": "python",
     "metadata": {},
     "outputs": [
      {
       "output_type": "stream",
       "stream": "stdout",
       "text": [
        "Echo: {'customer': <tartpy.runtime.Actor object at 0x105ef6f50>, 'foo': 5}\n",
        "CUSTOMER:\n",
        "{'reply': {'customer': <tartpy.runtime.Actor object at 0x105ef6f10>, 'foo': 5}}\n"
       ]
      }
     ],
     "prompt_number": 49
    },
    {
     "cell_type": "markdown",
     "metadata": {},
     "source": [
      "Notice that the customer address that `echo` in `mb2` sees is different than the address of `log`, since it is actually the address of a proxy created transparently across the membranes."
     ]
    }
   ],
   "metadata": {}
  }
 ]
}